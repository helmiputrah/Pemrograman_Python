{
  "nbformat": 4,
  "nbformat_minor": 0,
  "metadata": {
    "colab": {
      "name": "Helmi Putra H_1101180236_Python G7_TUGAS12_Python.ipynb",
      "provenance": [],
      "collapsed_sections": [],
      "authorship_tag": "ABX9TyPT6twnnOrkhpkPg/0ABGx1",
      "include_colab_link": true
    },
    "kernelspec": {
      "name": "python3",
      "display_name": "Python 3"
    }
  },
  "cells": [
    {
      "cell_type": "markdown",
      "metadata": {
        "id": "view-in-github",
        "colab_type": "text"
      },
      "source": [
        "<a href=\"https://colab.research.google.com/github/helmiputrah/Pemrograman_Python/blob/main/Helmi_Putra_H_1101180236_Python_G7_TUGAS12_Python.ipynb\" target=\"_parent\"><img src=\"https://colab.research.google.com/assets/colab-badge.svg\" alt=\"Open In Colab\"/></a>"
      ]
    },
    {
      "cell_type": "markdown",
      "metadata": {
        "id": "9nzxJv0fTX0Y"
      },
      "source": [
        "Nama : Helmi Putra H"
      ]
    },
    {
      "cell_type": "markdown",
      "metadata": {
        "id": "L8gbj5kLTdN9"
      },
      "source": [
        "Nim : 1101180236"
      ]
    },
    {
      "cell_type": "markdown",
      "metadata": {
        "id": "feD3umSATdbE"
      },
      "source": [
        "Kelas : Python G7"
      ]
    },
    {
      "cell_type": "code",
      "metadata": {
        "id": "08ctKkiFG2md"
      },
      "source": [
        "import numpy as np"
      ],
      "execution_count": 3,
      "outputs": []
    },
    {
      "cell_type": "code",
      "metadata": {
        "id": "LhGIZZJDG_C_",
        "colab": {
          "base_uri": "https://localhost:8080/"
        },
        "outputId": "61ac9c81-fa42-4ff2-b0d0-e97efc78ec31"
      },
      "source": [
        "fc=int(input(\"Masukkan nilai fc (150 - 2000 Mhz): \"))\r\n",
        "hT=int(input(\"Masukkan nilai hT (30-200 meter): \"))\r\n",
        "hR=int(input(\"Masukkan nilai hR (1-30 meter): \"))\r\n",
        "d=int(input(\"Masukkan nilai d (dalam km): \"))\r\n",
        "tipe_area=input(\"Masukkan tipe area('Urban', 'Suburban', 'Open'): \")"
      ],
      "execution_count": 27,
      "outputs": [
        {
          "output_type": "stream",
          "text": [
            "Masukkan nilai fc (150 - 2000 Mhz): 600000000\n",
            "Masukkan nilai hT (30-200 meter): 35\n",
            "Masukkan nilai hR (1-30 meter): 30\n",
            "Masukkan nilai d (dalam km): 30\n",
            "Masukkan tipe area('Urban', 'Suburban', 'Open'): Urban\n"
          ],
          "name": "stdout"
        }
      ]
    },
    {
      "cell_type": "code",
      "metadata": {
        "id": "Il220APgIg4m"
      },
      "source": [
        "NtL = lambda x: 10*np.log10(x)"
      ],
      "execution_count": 28,
      "outputs": []
    },
    {
      "cell_type": "code",
      "metadata": {
        "colab": {
          "base_uri": "https://localhost:8080/"
        },
        "id": "M49gnRc8Ii7-",
        "outputId": "bc70ee71-5ca2-4209-8bc2-44a7bd14a73b"
      },
      "source": [
        "def syaratFC(fc):\r\n",
        "  if fc<1500000000 and fc>=150000000:\r\n",
        "    C1,C2 = 69.55, 26.16\r\n",
        "  if fc<=2000000000 and fc>= 1500000000:\r\n",
        "    C1,C2 = 46.3, 33.9\r\n",
        "  return C1,C2\r\n",
        "syaratFC(fc)"
      ],
      "execution_count": 29,
      "outputs": [
        {
          "output_type": "execute_result",
          "data": {
            "text/plain": [
              "(69.55, 26.16)"
            ]
          },
          "metadata": {
            "tags": []
          },
          "execution_count": 29
        }
      ]
    },
    {
      "cell_type": "code",
      "metadata": {
        "colab": {
          "base_uri": "https://localhost:8080/"
        },
        "id": "jA9qf6TiIko-",
        "outputId": "a7a95066-6ee6-487b-8d5d-b3928e530a6c"
      },
      "source": [
        "def tipearea(tipe_area, fc):\r\n",
        "  if tipe_area == \"Urban\" :\r\n",
        "    Cm = 0\r\n",
        "  if tipe_area == \"Suburban\" :\r\n",
        "    Cm = -2*((np.log10(fc/28))**2) - 5.4\r\n",
        "  if tipe_area == \"Open\":\r\n",
        "    Cm = -4.78*((np.log10(fc))**2) + 18.33*np.log10(fc) - 40.94\r\n",
        "  return Cm\r\n",
        "tipearea(tipe_area, fc)"
      ],
      "execution_count": 30,
      "outputs": [
        {
          "output_type": "execute_result",
          "data": {
            "text/plain": [
              "0"
            ]
          },
          "metadata": {
            "tags": []
          },
          "execution_count": 30
        }
      ]
    },
    {
      "cell_type": "code",
      "metadata": {
        "id": "2fOJAaaLIl4G"
      },
      "source": [
        "def carinilaia (hR, fc):\r\n",
        "  a_hR = ((1.1*np.log10(fc))-0.7)*hR - ((1.56*np.log10(fc))-0.8)\r\n",
        "  return a_hR\r\n"
      ],
      "execution_count": 31,
      "outputs": []
    },
    {
      "cell_type": "code",
      "metadata": {
        "id": "wGVDcZ4KIm9e"
      },
      "source": [
        "def pathloss (fc,hT,d):\r\n",
        "  C1,C2 = syaratFC(fc)\r\n",
        "  Cm = tipearea(tipe_area, fc)\r\n",
        "  a_hR = carinilaia(hR, fc)\r\n",
        "  LP = C1 + C2*np.log10(fc) - 13.83*np.log10(hT) - a_hR + (44.9 - 6.55*np.log10(hT))*np.log(d) + Cm\r\n",
        "  return LP"
      ],
      "execution_count": 32,
      "outputs": []
    },
    {
      "cell_type": "code",
      "metadata": {
        "colab": {
          "base_uri": "https://localhost:8080/"
        },
        "id": "sPniGigbIoRu",
        "outputId": "9936fd35-ea96-4e6c-e98e-6e0077963c47"
      },
      "source": [
        "LP = pathloss(fc,hT,d)\r\n",
        "LpdB = NtL(LP)\r\n",
        "print(\"Ketika Path Loss di soal belum dalam dB\")\r\n",
        "print (\"\\nPath Loss dalam dB = \", LpdB, \"dB\")\r\n",
        "print (\"Path Loss dalam Numerik = \", LP)\r\n",
        "print(\"\\nKetika Path Loss di soal sudah dalam dB\")\r\n",
        "LP = pathloss(fc,hT,d)\r\n",
        "print(\"\\nPath Loss dalam dB = \", LP, \"dB\")"
      ],
      "execution_count": 34,
      "outputs": [
        {
          "output_type": "stream",
          "text": [
            "Ketika Path Loss di soal belum dalam dB\n",
            "\n",
            "Path Loss dalam dB =  21.47250035237105 dB\n",
            "Path Loss dalam Numerik =  140.36215753967275\n",
            "\n",
            "Ketika Path Loss di soal sudah dalam dB\n",
            "\n",
            "Path Loss dalam dB =  140.36215753967275 dB\n"
          ],
          "name": "stdout"
        }
      ]
    }
  ]
}